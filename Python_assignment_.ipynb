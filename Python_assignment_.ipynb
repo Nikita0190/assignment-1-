{
  "cells": [
    {
      "cell_type": "markdown",
      "metadata": {
        "id": "view-in-github",
        "colab_type": "text"
      },
      "source": [
        "<a href=\"https://colab.research.google.com/github/Nikita0190/assignment-1-/blob/main/Python_assignment_.ipynb\" target=\"_parent\"><img src=\"https://colab.research.google.com/assets/colab-badge.svg\" alt=\"Open In Colab\"/></a>"
      ]
    },
    {
      "cell_type": "code",
      "execution_count": null,
      "id": "e45f849f-9125-4820-a0df-78225a3a53db",
      "metadata": {
        "id": "e45f849f-9125-4820-a0df-78225a3a53db",
        "outputId": "b3a8ef45-2a93-40a0-a321-9dea0e9c1075"
      },
      "outputs": [
        {
          "name": "stdout",
          "output_type": "stream",
          "text": [
            "List after adding= [11, 12, 13, 14, 50, 60]\n",
            "List after deleting= [11, 12, 50, 60]\n"
          ]
        }
      ],
      "source": [
        "#QUESTION 1 \n",
        "L=[11,12,13,14]\n",
        "L.append(50)\n",
        "L.append(60)\n",
        "print (\"List after adding=\",L)\n",
        "\n",
        "del L[2]\n",
        "del L[2]\n",
        "print (\"List after deleting=\",L)"
      ]
    },
    {
      "cell_type": "code",
      "execution_count": null,
      "id": "0f69c9b3-eed7-428d-8719-545aa03830a7",
      "metadata": {
        "id": "0f69c9b3-eed7-428d-8719-545aa03830a7",
        "outputId": "6795544e-46a5-45a8-ad6c-01e33b091724"
      },
      "outputs": [
        {
          "name": "stdout",
          "output_type": "stream",
          "text": [
            "list in ascending order--> [11, 12, 13, 14, 15]\n",
            "list in descending order --> [15, 14, 13, 12, 11]\n"
          ]
        }
      ],
      "source": [
        "L=[11,12,13,14,15]\n",
        "L.sort()\n",
        "print (\"list in ascending order-->\",L)\n",
        "L.sort(reverse=True)\n",
        "print (\"list in descending order -->\",L)\n",
        "              "
      ]
    },
    {
      "cell_type": "code",
      "execution_count": null,
      "id": "c3ad5f9d-6250-4c90-9c61-fd425b79db52",
      "metadata": {
        "id": "c3ad5f9d-6250-4c90-9c61-fd425b79db52",
        "outputId": "2517c1df-c0e1-41a9-8a50-fb179a472788"
      },
      "outputs": [
        {
          "name": "stdout",
          "output_type": "stream",
          "text": [
            "Original lsit --> True\n",
            "Present\n"
          ]
        }
      ],
      "source": [
        "L=[11,12,13,14]\n",
        "print (\"Original lsit -->\",13 in L)\n",
        "if (13 in L) == True:\n",
        "    print ('Present')\n",
        "else :\n",
        "    print ('Not Present')"
      ]
    },
    {
      "cell_type": "code",
      "execution_count": null,
      "id": "33d07979-681b-4468-ab16-e49c653506d5",
      "metadata": {
        "id": "33d07979-681b-4468-ab16-e49c653506d5",
        "outputId": "a6b7b108-9d3b-4540-e833-a4744d4f785d"
      },
      "outputs": [
        {
          "name": "stdout",
          "output_type": "stream",
          "text": [
            "Number of elements in list are : 4\n"
          ]
        }
      ],
      "source": [
        "L=[11,12,13,14]\n",
        "print ( \"Number of elements in list are :\",len(L))"
      ]
    },
    {
      "cell_type": "code",
      "execution_count": null,
      "id": "287d23ed-f565-49ad-a88b-72bc3975e96c",
      "metadata": {
        "id": "287d23ed-f565-49ad-a88b-72bc3975e96c",
        "outputId": "a99b3255-603b-4b77-99ec-8fbad11548a7"
      },
      "outputs": [
        {
          "name": "stdout",
          "output_type": "stream",
          "text": [
            " sum of elements = 50\n"
          ]
        }
      ],
      "source": [
        "L=[11,12,13,14]\n",
        "print (\" sum of elements =\",sum(L))"
      ]
    },
    {
      "cell_type": "code",
      "execution_count": null,
      "id": "eb3a189e-498c-4333-922f-d4accbce5862",
      "metadata": {
        "id": "eb3a189e-498c-4333-922f-d4accbce5862",
        "outputId": "f913a6f8-87e1-4ed9-945f-d7e600ea2344"
      },
      "outputs": [
        {
          "name": "stdout",
          "output_type": "stream",
          "text": [
            "39\n"
          ]
        }
      ],
      "source": [
        "def solve(L):\n",
        "   return sum([i for i in L if i % 2 == 1])\n",
        "L = [11,12,13,14,15]\n",
        "print(solve(L))"
      ]
    },
    {
      "cell_type": "code",
      "execution_count": null,
      "id": "fbc4b76e-439c-427f-805c-4e2ad05165d0",
      "metadata": {
        "id": "fbc4b76e-439c-427f-805c-4e2ad05165d0",
        "outputId": "440f6835-34b4-45b9-98b1-51fd00f6fe3a"
      },
      "outputs": [
        {
          "name": "stdout",
          "output_type": "stream",
          "text": [
            "26\n"
          ]
        }
      ],
      "source": [
        "L = [11,12,13,14]\n",
        "\n",
        "L = sum([num for num in L if num % 2 == 0])\n",
        "\n",
        "print(L)\n"
      ]
    },
    {
      "cell_type": "code",
      "execution_count": null,
      "id": "7c072908-d2ba-4c35-9101-84d115220a62",
      "metadata": {
        "id": "7c072908-d2ba-4c35-9101-84d115220a62",
        "outputId": "d2928663-f95b-43cd-fb1d-25c399897675"
      },
      "outputs": [
        {
          "name": "stdout",
          "output_type": "stream",
          "text": [
            "L before clear: [11, 12, 13, 14]\n",
            "L after clear: []\n"
          ]
        }
      ],
      "source": [
        "L = [11,12,13,14]\n",
        "print('L before clear:',L)\n",
        "\n",
        "L.clear()\n",
        "print('L after clear:', L)\n"
      ]
    },
    {
      "cell_type": "code",
      "execution_count": null,
      "id": "d86cf06b-53d7-4632-bdd2-4732d37d9491",
      "metadata": {
        "id": "d86cf06b-53d7-4632-bdd2-4732d37d9491",
        "outputId": "27a9d185-80b0-4233-8df1-191c2624f94c"
      },
      "outputs": [
        {
          "ename": "SyntaxError",
          "evalue": "cannot delete function call (3271501036.py, line 2)",
          "output_type": "error",
          "traceback": [
            "\u001b[0;36m  Cell \u001b[0;32mIn[51], line 2\u001b[0;36m\u001b[0m\n\u001b[0;31m    del L(L)\u001b[0m\n\u001b[0m        ^\u001b[0m\n\u001b[0;31mSyntaxError\u001b[0m\u001b[0;31m:\u001b[0m cannot delete function call\n"
          ]
        }
      ],
      "source": [
        "L=[11,12,13,14]\n",
        "del L(L)\n",
        "print (L)"
      ]
    },
    {
      "cell_type": "code",
      "execution_count": null,
      "id": "1a1a3d63-0bce-4b52-b383-187692169289",
      "metadata": {
        "id": "1a1a3d63-0bce-4b52-b383-187692169289",
        "outputId": "bc80695d-a41e-4125-8cc0-653e324ed734"
      },
      "outputs": [
        {
          "name": "stdout",
          "output_type": "stream",
          "text": [
            " After adding elemnet: {1: 5.6, 2: 7.8, 3: 6.6, 4: 8.7, 5: 7.7, 8: 8.8}\n"
          ]
        }
      ],
      "source": [
        "#QUESTION 2 \n",
        "\n",
        "D = { 1:5.6,2:7.8,3:6.6,4:8.7,5:7.7}\n",
        "D[8]=8.8\n",
        "print (\" After adding elemnet:\",D)"
      ]
    },
    {
      "cell_type": "code",
      "execution_count": null,
      "id": "b4b50b2a-eba0-4304-b266-bcad6144b11f",
      "metadata": {
        "id": "b4b50b2a-eba0-4304-b266-bcad6144b11f",
        "outputId": "fd1a6909-e3e7-4857-9d0d-c50afeea3f54"
      },
      "outputs": [
        {
          "name": "stdout",
          "output_type": "stream",
          "text": [
            "After deleting element 2: {1: 5.6, 3: 6.6, 4: 8.7, 5: 7.7}\n"
          ]
        }
      ],
      "source": [
        "D = { 1:5.6,2:7.8,3:6.6,4:8.7,5:7.7}\n",
        "del D[2]\n",
        "print(\"After deleting element 2:\",D)\n",
        "      "
      ]
    },
    {
      "cell_type": "code",
      "execution_count": null,
      "id": "55f17be3-e01d-42fe-8a45-3b938363c846",
      "metadata": {
        "id": "55f17be3-e01d-42fe-8a45-3b938363c846",
        "outputId": "ec681325-9b0a-4e1d-c0c8-1b21e80400ce"
      },
      "outputs": [
        {
          "name": "stdout",
          "output_type": "stream",
          "text": [
            "Original dictionary: {1: 5.6, 2: 7.8, 3: 6.6, 4: 8.7, 5: 7.7}\n",
            "Is key 6 present: False\n"
          ]
        }
      ],
      "source": [
        "D = { 1:5.6,2:7.8,3:6.6,4:8.7,5:7.7}\n",
        "print (\"Original dictionary:\",D)\n",
        "print (\"Is key 6 present:\",6 in D)"
      ]
    },
    {
      "cell_type": "code",
      "execution_count": null,
      "id": "132fde17-0f18-4aee-bdc9-fcae1ba9df06",
      "metadata": {
        "id": "132fde17-0f18-4aee-bdc9-fcae1ba9df06",
        "outputId": "a5b15303-a625-4dac-d1dd-ddd1bf8a230a"
      },
      "outputs": [
        {
          "name": "stdout",
          "output_type": "stream",
          "text": [
            "5\n"
          ]
        }
      ],
      "source": [
        "D = { 1:5.6,2:7.8,3:6.6,4:8.7,5:7.7}\n",
        "count = len(D.keys())\n",
        "print(count)\n"
      ]
    },
    {
      "cell_type": "code",
      "execution_count": null,
      "id": "25b5f6a1-1c27-42c7-832c-5a3966b10be6",
      "metadata": {
        "id": "25b5f6a1-1c27-42c7-832c-5a3966b10be6",
        "outputId": "0c944f6a-d476-4c7a-b818-be93bea36727"
      },
      "outputs": [
        {
          "name": "stdout",
          "output_type": "stream",
          "text": [
            "After Updating (4)  -->  {1: 5.6, 2: 7.8, 3: 7.1, 4: 8.7, 5: 7.7}\n"
          ]
        }
      ],
      "source": [
        "D = { 1:5.6,2:7.8,3:6.6,4:8.7,5:7.7}\n",
        "D[3] = 7.1\n",
        "print (\"After Updating (4)  --> \",D)\n"
      ]
    },
    {
      "cell_type": "code",
      "execution_count": null,
      "id": "d0390cb0-4171-44ff-addc-460208f46b26",
      "metadata": {
        "id": "d0390cb0-4171-44ff-addc-460208f46b26",
        "outputId": "a3284181-81f4-41cf-8f79-94f3daf24d24"
      },
      "outputs": [
        {
          "name": "stdout",
          "output_type": "stream",
          "text": [
            "after clearing {}\n"
          ]
        }
      ],
      "source": [
        "D = { 1:5.6,2:7.8,3:6.6,4:8.7,5:7.7}\n",
        "D.clear()\n",
        "print (\"after clearing\",D)"
      ]
    },
    {
      "cell_type": "code",
      "execution_count": null,
      "id": "eed854e3-ed7f-41fa-a33d-44b3406bab96",
      "metadata": {
        "id": "eed854e3-ed7f-41fa-a33d-44b3406bab96",
        "outputId": "d228e5b0-9a43-4d65-9f4c-a8508c6c9516"
      },
      "outputs": [
        {
          "name": "stdout",
          "output_type": "stream",
          "text": [
            " set after adding values: {66, 40, 10, 50, 20, 55, 60, 30}\n"
          ]
        }
      ],
      "source": [
        "#question 3 \n",
        "s1 = set([10,20,30,40,50,60])\n",
        "s2 = set([40,50,60,70,80,90])\n",
        "s1.add(55)\n",
        "s1.add(66)\n",
        "print (\" set after adding values:\",s1)"
      ]
    },
    {
      "cell_type": "code",
      "execution_count": null,
      "id": "915e42f9-6ae2-4ccf-bee8-cb3c261231e2",
      "metadata": {
        "id": "915e42f9-6ae2-4ccf-bee8-cb3c261231e2",
        "outputId": "8bf669f8-a773-43bb-9961-d567b919b7e7"
      },
      "outputs": [
        {
          "name": "stdout",
          "output_type": "stream",
          "text": [
            "set after deleting element: {40, 50, 20, 60}\n"
          ]
        }
      ],
      "source": [
        "s1 = set([10,20,30,40,50,60])\n",
        "s2 = set([40,50,60,70,80,90])\n",
        "s1.remove (10)\n",
        "s1.remove(30)\n",
        "print (\"set after deleting element:\",s1)"
      ]
    },
    {
      "cell_type": "code",
      "execution_count": null,
      "id": "774a7615-93ea-45e3-a109-46207870782d",
      "metadata": {
        "id": "774a7615-93ea-45e3-a109-46207870782d",
        "outputId": "1e8cae94-f312-4991-f700-53c2d9febff9"
      },
      "outputs": [
        {
          "name": "stdout",
          "output_type": "stream",
          "text": [
            "union of s1 and s2 : {70, 40, 10, 80, 50, 20, 90, 60, 30}\n"
          ]
        }
      ],
      "source": [
        "s1 = set([10,20,30,40,50,60])\n",
        "s2 = set([40,50,60,70,80,90])\n",
        "print (\"union of s1 and s2 :\",s1.union(s2))"
      ]
    },
    {
      "cell_type": "code",
      "execution_count": null,
      "id": "93a32937-9db7-49d0-8956-884e2c4c645b",
      "metadata": {
        "id": "93a32937-9db7-49d0-8956-884e2c4c645b",
        "outputId": "a31c5405-ba54-4896-b3f8-222a95b976ff"
      },
      "outputs": [
        {
          "name": "stdout",
          "output_type": "stream",
          "text": [
            "intersection of s1 and s2: {40, 50, 60}\n"
          ]
        }
      ],
      "source": [
        "s1 = set([10,20,30,40,50,60])\n",
        "s2 = set([40,50,60,70,80,90])\n",
        "print (\"intersection of s1 and s2:\",s1.intersection(s2))"
      ]
    },
    {
      "cell_type": "code",
      "execution_count": null,
      "id": "c2184fcb-fe89-4931-bb47-17297ffe8cfb",
      "metadata": {
        "id": "c2184fcb-fe89-4931-bb47-17297ffe8cfb",
        "outputId": "ee5dfce3-816a-4c49-8c1b-f189d462cf47"
      },
      "outputs": [
        {
          "name": "stdout",
          "output_type": "stream",
          "text": [
            "difference between s1 and s2: {10, 20, 30}\n"
          ]
        }
      ],
      "source": [
        "print (\"difference between s1 and s2:\",s1.difference(s2))"
      ]
    },
    {
      "cell_type": "code",
      "execution_count": null,
      "id": "33382d77-7e12-4dbd-af01-0b581bc174eb",
      "metadata": {
        "id": "33382d77-7e12-4dbd-af01-0b581bc174eb",
        "outputId": "03929e13-5040-42ac-9906-5d879995eb8b"
      },
      "outputs": [
        {
          "name": "stdout",
          "output_type": "stream",
          "text": [
            "Prime numbers between 600 and 800 are:\n",
            "601\n",
            "607\n",
            "613\n",
            "617\n",
            "619\n",
            "631\n",
            "641\n",
            "643\n",
            "647\n",
            "653\n",
            "659\n",
            "661\n",
            "673\n",
            "677\n",
            "683\n",
            "691\n",
            "701\n",
            "709\n",
            "719\n",
            "727\n",
            "733\n",
            "739\n",
            "743\n",
            "751\n",
            "757\n",
            "761\n",
            "769\n",
            "773\n",
            "787\n",
            "797\n"
          ]
        }
      ],
      "source": [
        "#Question 4\n",
        "\n",
        "lower = 600\n",
        "upper = 800\n",
        "\n",
        "print(\"Prime numbers between\", lower, \"and\", upper, \"are:\")\n",
        "\n",
        "for num in range(lower, upper + 1):\n",
        "   if num > 1:\n",
        "       for i in range(2, num):\n",
        "           if (num % i) == 0:\n",
        "               break\n",
        "       else:\n",
        "           print(num)\n"
      ]
    },
    {
      "cell_type": "code",
      "execution_count": null,
      "id": "b0d2b463-b2b6-4e7e-86cb-1b0cfb88bff7",
      "metadata": {
        "id": "b0d2b463-b2b6-4e7e-86cb-1b0cfb88bff7",
        "outputId": "cb6dc3c0-b02b-421a-8043-790040dda8ab"
      },
      "outputs": [
        {
          "name": "stdout",
          "output_type": "stream",
          "text": [
            "105,140,175,210,245,280,315,350,385,420,455,490,525,560,595,630,665,700,735,770,805,840,875,910,945,980\n"
          ]
        }
      ],
      "source": [
        "L=[]\n",
        "for x in range(100,1000):\n",
        "    if (x%7==0) and (x%5==0):\n",
        "        L.append(str(x))\n",
        "print (','.join(L))\n"
      ]
    },
    {
      "cell_type": "code",
      "execution_count": null,
      "id": "170f2935-1024-4744-966f-89437ef32d53",
      "metadata": {
        "colab": {
          "base_uri": "https://localhost:8080/"
        },
        "id": "170f2935-1024-4744-966f-89437ef32d53",
        "outputId": "d0c2f9af-afd8-4f53-c22d-88636fc1af3f"
      },
      "outputs": [
        {
          "output_type": "stream",
          "name": "stdout",
          "text": [
            "The common elements in the two lists are: \n",
            "[16, 22, 25]\n"
          ]
        }
      ],
      "source": [
        "#QUESTION 5 \n",
        "def common_member(s1,s2):\n",
        "\tresult = [i for i in s1 if i in s2]\n",
        "\treturn result\n",
        "\n",
        "s1 = [11,14,15,16,21,22,25,26,29,27]\n",
        "s2= [13,12,17,22,25,24,20,18,16,23]\n",
        "\n",
        "print(\"The common elements in the two lists are: \")\n",
        "print(common_member(s1,s2))\n",
        "\n"
      ]
    },
    {
      "cell_type": "code",
      "source": [
        "def unique(list1):\n",
        "\tunique_list = []\n",
        "\tfor x in list1:\n",
        "\t\tif x not in unique_list:\n",
        "\t\t\tunique_list.append(x)\n",
        "\tfor x in unique_list:\n",
        "\t\tprint (x)\n",
        "\n",
        "print(\"the unique values from 1st list is\")\n",
        "unique(s1)\n",
        "print(\"\\nthe unique values from 2nd list is\")\n",
        "unique(s2)\n"
      ],
      "metadata": {
        "colab": {
          "base_uri": "https://localhost:8080/"
        },
        "id": "pGHKuD_in0nX",
        "outputId": "c49a1d1f-f3bc-4dcc-f9b5-b57f9c9fee7b"
      },
      "id": "pGHKuD_in0nX",
      "execution_count": null,
      "outputs": [
        {
          "output_type": "stream",
          "name": "stdout",
          "text": [
            "the unique values from 1st list is\n",
            "11\n",
            "14\n",
            "15\n",
            "16\n",
            "21\n",
            "22\n",
            "25\n",
            "26\n",
            "29\n",
            "27\n",
            "\n",
            "the unique values from 2nd list is\n",
            "13\n",
            "12\n",
            "17\n",
            "22\n",
            "25\n",
            "24\n",
            "20\n",
            "18\n",
            "16\n",
            "23\n"
          ]
        }
      ]
    },
    {
      "cell_type": "code",
      "source": [
        "print(\"Original list:\",s1,s2)\n",
        "print (\"maximum number of s1:\",max(s1))\n",
        "print (\"maximum number of s2:\",max(s2))"
      ],
      "metadata": {
        "colab": {
          "base_uri": "https://localhost:8080/"
        },
        "id": "b5EygzFon1Po",
        "outputId": "4aaeec37-41f5-4323-8e3e-8529eb70511c"
      },
      "id": "b5EygzFon1Po",
      "execution_count": null,
      "outputs": [
        {
          "output_type": "stream",
          "name": "stdout",
          "text": [
            "Original list: [11, 14, 15, 16, 21, 22, 25, 26, 29, 27] [13, 12, 17, 22, 25, 24, 20, 18, 16, 23]\n",
            "maximum number of s1: 29\n",
            "maximum number of s2: 25\n"
          ]
        }
      ]
    },
    {
      "cell_type": "code",
      "source": [
        "print(\"Original list:\",s1,s2)\n",
        "print (\"minimum number of s1:\",min(s1))\n",
        "print (\"minimum number of s1:\",min(s1))"
      ],
      "metadata": {
        "colab": {
          "base_uri": "https://localhost:8080/"
        },
        "id": "sXpOX-L_n1oB",
        "outputId": "6dcdfeb2-6855-43bf-c333-f76b1bc56054"
      },
      "id": "sXpOX-L_n1oB",
      "execution_count": null,
      "outputs": [
        {
          "output_type": "stream",
          "name": "stdout",
          "text": [
            "Original list: [11, 14, 15, 16, 21, 22, 25, 26, 29, 27] [13, 12, 17, 22, 25, 24, 20, 18, 16, 23]\n",
            "minimum number of s1: 11\n",
            "minimum number of s1: 11\n"
          ]
        }
      ]
    },
    {
      "cell_type": "code",
      "source": [
        "print(\"Original list:\",s1,s2)\n",
        "print (\"sum number of s1:\",sum(s1))\n",
        "print (\"sum number of s1:\",sum(s2))"
      ],
      "metadata": {
        "colab": {
          "base_uri": "https://localhost:8080/"
        },
        "id": "UpEit2K-n19O",
        "outputId": "38f31d7e-d03c-400f-806e-858b76dc279f"
      },
      "id": "UpEit2K-n19O",
      "execution_count": null,
      "outputs": [
        {
          "output_type": "stream",
          "name": "stdout",
          "text": [
            "Original list: [11, 14, 15, 16, 21, 22, 25, 26, 29, 27] [13, 12, 17, 22, 25, 24, 20, 18, 16, 23]\n",
            "sum number of s1: 206\n",
            "sum number of s1: 190\n"
          ]
        }
      ]
    },
    {
      "cell_type": "code",
      "source": [
        "#QUESTION 6 \n",
        "\n",
        "import random\n",
        "print(\"Random integers between 100 and 900: \")\n",
        "for i in range(100,900):\n",
        " y = random.randrange(900)\n",
        "print(y)\n"
      ],
      "metadata": {
        "colab": {
          "base_uri": "https://localhost:8080/",
          "height": 262
        },
        "id": "5uUJUTDzql4D",
        "outputId": "d13e7ee5-4785-435b-b09e-520681222538"
      },
      "id": "5uUJUTDzql4D",
      "execution_count": null,
      "outputs": [
        {
          "output_type": "stream",
          "name": "stdout",
          "text": [
            "Random integers between 100 and 900: \n"
          ]
        },
        {
          "output_type": "error",
          "ename": "NameError",
          "evalue": "ignored",
          "traceback": [
            "\u001b[0;31m---------------------------------------------------------------------------\u001b[0m",
            "\u001b[0;31mNameError\u001b[0m                                 Traceback (most recent call last)",
            "\u001b[0;32m<ipython-input-35-a585dcbba22b>\u001b[0m in \u001b[0;36m<cell line: 7>\u001b[0;34m()\u001b[0m\n\u001b[1;32m      5\u001b[0m \u001b[0;32mfor\u001b[0m \u001b[0mi\u001b[0m \u001b[0;32min\u001b[0m \u001b[0mrange\u001b[0m\u001b[0;34m(\u001b[0m\u001b[0;36m100\u001b[0m\u001b[0;34m,\u001b[0m\u001b[0;36m900\u001b[0m\u001b[0;34m)\u001b[0m\u001b[0;34m:\u001b[0m\u001b[0;34m\u001b[0m\u001b[0;34m\u001b[0m\u001b[0m\n\u001b[1;32m      6\u001b[0m  \u001b[0my\u001b[0m \u001b[0;34m=\u001b[0m \u001b[0mrandom\u001b[0m\u001b[0;34m.\u001b[0m\u001b[0mrandrange\u001b[0m\u001b[0;34m(\u001b[0m\u001b[0;36m900\u001b[0m\u001b[0;34m)\u001b[0m\u001b[0;34m\u001b[0m\u001b[0;34m\u001b[0m\u001b[0m\n\u001b[0;32m----> 7\u001b[0;31m \u001b[0;32mfor\u001b[0m \u001b[0mx\u001b[0m \u001b[0;32min\u001b[0m \u001b[0mnumbers\u001b[0m\u001b[0;34m:\u001b[0m\u001b[0;34m\u001b[0m\u001b[0;34m\u001b[0m\u001b[0m\n\u001b[0m\u001b[1;32m      8\u001b[0m         \u001b[0;32mif\u001b[0m \u001b[0;32mnot\u001b[0m \u001b[0mx\u001b[0m \u001b[0;34m%\u001b[0m \u001b[0;36m2\u001b[0m\u001b[0;34m:\u001b[0m\u001b[0;34m\u001b[0m\u001b[0;34m\u001b[0m\u001b[0m\n\u001b[1;32m      9\u001b[0m              \u001b[0mcount_even\u001b[0m\u001b[0;34m+=\u001b[0m\u001b[0;36m1\u001b[0m\u001b[0;34m\u001b[0m\u001b[0;34m\u001b[0m\u001b[0m\n",
            "\u001b[0;31mNameError\u001b[0m: name 'numbers' is not defined"
          ]
        }
      ]
    },
    {
      "cell_type": "code",
      "source": [
        "odd_count = len(list (y(x%2 != 0) ,y))\n",
        "even_count = len(list(y(x%2 == 0) ,y))\n",
        "print(\"Even numbers available in the list: \", even_count)\n",
        "print(\"Odd numbers available in the list: \", odd_count)"
      ],
      "metadata": {
        "colab": {
          "base_uri": "https://localhost:8080/",
          "height": 226
        },
        "id": "lyr0Cuj_qmIn",
        "outputId": "485f1e8b-5356-4976-ba1c-7e2ab7879c9f"
      },
      "id": "lyr0Cuj_qmIn",
      "execution_count": null,
      "outputs": [
        {
          "output_type": "error",
          "ename": "NameError",
          "evalue": "ignored",
          "traceback": [
            "\u001b[0;31m---------------------------------------------------------------------------\u001b[0m",
            "\u001b[0;31mNameError\u001b[0m                                 Traceback (most recent call last)",
            "\u001b[0;32m<ipython-input-41-be113e9f1b4c>\u001b[0m in \u001b[0;36m<cell line: 1>\u001b[0;34m()\u001b[0m\n\u001b[0;32m----> 1\u001b[0;31m \u001b[0modd_count\u001b[0m \u001b[0;34m=\u001b[0m \u001b[0mlen\u001b[0m\u001b[0;34m(\u001b[0m\u001b[0mlist\u001b[0m \u001b[0;34m(\u001b[0m\u001b[0my\u001b[0m\u001b[0;34m(\u001b[0m\u001b[0mx\u001b[0m\u001b[0;34m%\u001b[0m\u001b[0;36m2\u001b[0m \u001b[0;34m!=\u001b[0m \u001b[0;36m0\u001b[0m\u001b[0;34m)\u001b[0m \u001b[0;34m,\u001b[0m\u001b[0my\u001b[0m\u001b[0;34m)\u001b[0m\u001b[0;34m)\u001b[0m\u001b[0;34m\u001b[0m\u001b[0;34m\u001b[0m\u001b[0m\n\u001b[0m\u001b[1;32m      2\u001b[0m \u001b[0meven_count\u001b[0m \u001b[0;34m=\u001b[0m \u001b[0mlen\u001b[0m\u001b[0;34m(\u001b[0m\u001b[0mlist\u001b[0m\u001b[0;34m(\u001b[0m\u001b[0my\u001b[0m\u001b[0;34m(\u001b[0m\u001b[0mx\u001b[0m\u001b[0;34m%\u001b[0m\u001b[0;36m2\u001b[0m \u001b[0;34m==\u001b[0m \u001b[0;36m0\u001b[0m\u001b[0;34m)\u001b[0m \u001b[0;34m,\u001b[0m\u001b[0my\u001b[0m\u001b[0;34m)\u001b[0m\u001b[0;34m)\u001b[0m\u001b[0;34m\u001b[0m\u001b[0;34m\u001b[0m\u001b[0m\n\u001b[1;32m      3\u001b[0m \u001b[0mprint\u001b[0m\u001b[0;34m(\u001b[0m\u001b[0;34m\"Even numbers available in the list: \"\u001b[0m\u001b[0;34m,\u001b[0m \u001b[0meven_count\u001b[0m\u001b[0;34m)\u001b[0m\u001b[0;34m\u001b[0m\u001b[0;34m\u001b[0m\u001b[0m\n\u001b[1;32m      4\u001b[0m \u001b[0mprint\u001b[0m\u001b[0;34m(\u001b[0m\u001b[0;34m\"Odd numbers available in the list: \"\u001b[0m\u001b[0;34m,\u001b[0m \u001b[0modd_count\u001b[0m\u001b[0;34m)\u001b[0m\u001b[0;34m\u001b[0m\u001b[0;34m\u001b[0m\u001b[0m\n",
            "\u001b[0;31mNameError\u001b[0m: name 'x' is not defined"
          ]
        }
      ]
    },
    {
      "cell_type": "code",
      "source": [
        "fp=open('result.txt','w')\t\n",
        "for  i in range(600,800):\n",
        "\tfp.write(\n",
        "      lower = 600\n",
        "      upper = 800\n",
        "\n",
        "print(\"Prime numbers between\", lower, \"and\", upper, \"are:\")\n",
        "\n",
        "for num in range(lower, upper + 1):\n",
        "   if num > 1:\n",
        "       for i in range(2, num):\n",
        "           if (num % i) == 0:\n",
        "               break\n",
        "       else:\n",
        "           print(num))\t\n",
        "fp.close()\n",
        "\n",
        "print (\"Writing done !! \\nOpen result.txt to view the content\")"
      ],
      "metadata": {
        "colab": {
          "base_uri": "https://localhost:8080/",
          "height": 135
        },
        "id": "ChlyklcJqmX6",
        "outputId": "b3d8a08d-644e-4dec-fdff-8ee6e06758ae"
      },
      "id": "ChlyklcJqmX6",
      "execution_count": null,
      "outputs": [
        {
          "output_type": "error",
          "ename": "SyntaxError",
          "evalue": "ignored",
          "traceback": [
            "\u001b[0;36m  File \u001b[0;32m\"<ipython-input-44-3009d0407aea>\"\u001b[0;36m, line \u001b[0;32m4\u001b[0m\n\u001b[0;31m    lower = 600\u001b[0m\n\u001b[0m            ^\u001b[0m\n\u001b[0;31mSyntaxError\u001b[0m\u001b[0;31m:\u001b[0m invalid syntax. Perhaps you forgot a comma?\n"
          ]
        }
      ]
    }
  ],
  "metadata": {
    "kernelspec": {
      "display_name": "anaconda-panel-2023.05-py310",
      "language": "python",
      "name": "conda-env-anaconda-panel-2023.05-py310-py"
    },
    "language_info": {
      "codemirror_mode": {
        "name": "ipython",
        "version": 3
      },
      "file_extension": ".py",
      "mimetype": "text/x-python",
      "name": "python",
      "nbconvert_exporter": "python",
      "pygments_lexer": "ipython3",
      "version": "3.11.3"
    },
    "colab": {
      "provenance": [],
      "include_colab_link": true
    }
  },
  "nbformat": 4,
  "nbformat_minor": 5
}